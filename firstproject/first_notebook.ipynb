{
 "cells": [
  {
   "cell_type": "code",
   "execution_count": 1,
   "id": "ab38f2ed-2a54-4f52-8607-38a4fc88ca5b",
   "metadata": {},
   "outputs": [
    {
     "data": {
      "text/plain": [
       "circle_area (generic function with 1 method)"
      ]
     },
     "execution_count": 1,
     "metadata": {},
     "output_type": "execute_result"
    }
   ],
   "source": [
    "function circle_area(radius)\n",
    "    return pi * radius^2\n",
    "end"
   ]
  },
  {
   "cell_type": "code",
   "execution_count": 2,
   "id": "f3a2e4da-0671-4db5-8d03-bb2a18960940",
   "metadata": {},
   "outputs": [
    {
     "data": {
      "text/plain": [
       "3.0"
      ]
     },
     "execution_count": 2,
     "metadata": {},
     "output_type": "execute_result"
    }
   ],
   "source": [
    "radius = 3.0"
   ]
  },
  {
   "cell_type": "code",
   "execution_count": 3,
   "id": "912b8882-1256-4f3a-b71e-28d0881c4e4d",
   "metadata": {},
   "outputs": [
    {
     "name": "stdout",
     "output_type": "stream",
     "text": [
      "Area for radius = 3.0 is 28.274333882308138\n"
     ]
    }
   ],
   "source": [
    "println(\"Area for radius = \", radius, \" is \", circle_area(radius))"
   ]
  },
  {
   "cell_type": "code",
   "execution_count": null,
   "id": "412034d3-7bea-4fa6-be3a-d373997c8545",
   "metadata": {},
   "outputs": [],
   "source": []
  }
 ],
 "metadata": {
  "kernelspec": {
   "display_name": "Julia 1.11.5",
   "language": "julia",
   "name": "julia-1.11"
  },
  "language_info": {
   "file_extension": ".jl",
   "mimetype": "application/julia",
   "name": "julia",
   "version": "1.11.5"
  }
 },
 "nbformat": 4,
 "nbformat_minor": 5
}
